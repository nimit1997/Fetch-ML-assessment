{
  "nbformat": 4,
  "nbformat_minor": 0,
  "metadata": {
    "colab": {
      "provenance": []
    },
    "kernelspec": {
      "name": "python3",
      "display_name": "Python 3"
    },
    "language_info": {
      "name": "python"
    }
  },
  "cells": [
    {
      "cell_type": "code",
      "execution_count": 8,
      "metadata": {
        "id": "vsyRvP0eH_Uk"
      },
      "outputs": [],
      "source": [
        "import numpy as np\n",
        "import pandas as pd\n",
        "import matplotlib.pyplot as plt"
      ]
    },
    {
      "cell_type": "code",
      "source": [
        "data = pd.read_csv(\"/content/data_daily.csv\")"
      ],
      "metadata": {
        "id": "I35t6Jvq0ZK9"
      },
      "execution_count": 12,
      "outputs": []
    },
    {
      "cell_type": "code",
      "source": [
        "import datetime as dt\n",
        "data['# Date'] = pd.to_datetime(data['# Date'])\n",
        "data['# Date']=data['# Date'].map(dt.datetime.toordinal)"
      ],
      "metadata": {
        "id": "ZMQLYXvv1Pp_"
      },
      "execution_count": 16,
      "outputs": []
    },
    {
      "cell_type": "code",
      "source": [
        "x = data['# Date']\n",
        "y = data['Receipt_Count']"
      ],
      "metadata": {
        "id": "oB6vFI0g1guH"
      },
      "execution_count": 34,
      "outputs": []
    },
    {
      "cell_type": "code",
      "source": [
        "def linear_regression(x, y):     \n",
        "    N = len(x)\n",
        "    x_mean = x.mean()\n",
        "    y_mean = y.mean()\n",
        "    \n",
        "    B1_num = ((x - x_mean) * (y - y_mean)).sum()\n",
        "    B1_den = ((x - x_mean)**2).sum()\n",
        "    B1 = B1_num / B1_den\n",
        "    \n",
        "    B0 = y_mean - (B1*x_mean)\n",
        "    \n",
        "    reg_line = 'y = {} + {}β'.format(B0, round(B1, 3))\n",
        "    \n",
        "    return (B0, B1, reg_line)"
      ],
      "metadata": {
        "id": "-BFdBZfPIMOb"
      },
      "execution_count": 35,
      "outputs": []
    },
    {
      "cell_type": "code",
      "source": [
        "N = len(x)\n",
        "x_mean = x.mean()\n",
        "y_mean = y.mean()"
      ],
      "metadata": {
        "id": "JeeM2LlPKmBv"
      },
      "execution_count": 36,
      "outputs": []
    },
    {
      "cell_type": "code",
      "source": [
        "B1_num = ((x - x_mean) * (y - y_mean)).sum()\n",
        "B1_den = ((x - x_mean)**2).sum()\n",
        "B1 = B1_num / B1_den"
      ],
      "metadata": {
        "id": "0qA3k7hX0z8l"
      },
      "execution_count": 37,
      "outputs": []
    },
    {
      "cell_type": "code",
      "source": [
        "B0 = y_mean - (B1 * x_mean)"
      ],
      "metadata": {
        "id": "5xcUNR8n1o05"
      },
      "execution_count": 38,
      "outputs": []
    },
    {
      "cell_type": "code",
      "source": [
        "def corr_coef(x, y):\n",
        "    N = len(x)\n",
        "    \n",
        "    num = (N * (x*y).sum()) - (x.sum() * y.sum())\n",
        "    den = np.sqrt((N * (x**2).sum() - x.sum()**2) * (N * (y**2).sum() - y.sum()**2))\n",
        "    R = num / den\n",
        "    return R"
      ],
      "metadata": {
        "id": "9ZIkFmji1q4G"
      },
      "execution_count": 39,
      "outputs": []
    },
    {
      "cell_type": "code",
      "source": [
        "B0, B1, reg_line = linear_regression(x, y)\n",
        "print('Regression Line: ', reg_line)\n",
        "R = corr_coef(x, y)\n",
        "print('Correlation Coef.: ', R)\n",
        "print('\"Goodness of Fit\": ', R**2)"
      ],
      "metadata": {
        "colab": {
          "base_uri": "https://localhost:8080/"
        },
        "id": "hx-p6x1Q1uhm",
        "outputId": "5561a64f-b0e2-4c7d-ae8a-31d8d692851e"
      },
      "execution_count": 40,
      "outputs": [
        {
          "output_type": "stream",
          "name": "stdout",
          "text": [
            "Regression Line:  y = -5245591386.011732 + 7120.068β\n",
            "Correlation Coef.:  nan\n",
            "\"Goodness of Fit\":  nan\n"
          ]
        },
        {
          "output_type": "stream",
          "name": "stderr",
          "text": [
            "<ipython-input-39-b77346f4622f>:5: RuntimeWarning: overflow encountered in long_scalars\n",
            "  den = np.sqrt((N * (x**2).sum() - x.sum()**2) * (N * (y**2).sum() - y.sum()**2))\n",
            "<ipython-input-39-b77346f4622f>:5: RuntimeWarning: invalid value encountered in sqrt\n",
            "  den = np.sqrt((N * (x**2).sum() - x.sum()**2) * (N * (y**2).sum() - y.sum()**2))\n"
          ]
        }
      ]
    },
    {
      "cell_type": "code",
      "source": [],
      "metadata": {
        "id": "O-tb5OB_13Gf"
      },
      "execution_count": null,
      "outputs": []
    }
  ]
}